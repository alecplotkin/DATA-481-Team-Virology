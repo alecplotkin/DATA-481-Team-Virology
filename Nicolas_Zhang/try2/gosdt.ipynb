{
 "cells": [
  {
   "cell_type": "markdown",
   "metadata": {},
   "source": [
    "## GOSTD"
   ]
  },
  {
   "cell_type": "code",
   "execution_count": 9,
   "metadata": {},
   "outputs": [
    {
     "name": "stdout",
     "output_type": "stream",
     "text": [
      "[WARNING] A regularization was chosen that is less than 1 / (# of samples) = 0.03571428571428571. This may lead to a longer training time if not adjusted.\n",
      "[WARNING] Regularization increased to 1 / (# of samples) = 0.03571428571428571. If you would like to continue with your chosen regularization (0.001), please set allow_small_reg=True.\n",
      "GOSDT Training Accuracy: 0.9643\n",
      "GOSDT Test Accuracy:     0.7500\n"
     ]
    },
    {
     "name": "stderr",
     "output_type": "stream",
     "text": [
      "/Users/nicolaszhang/miniconda3/envs/data_science_env/lib/python3.12/site-packages/sklearn/utils/deprecation.py:151: FutureWarning: 'force_all_finite' was renamed to 'ensure_all_finite' in 1.6 and will be removed in 1.8.\n",
      "  warnings.warn(\n",
      "/Users/nicolaszhang/miniconda3/envs/data_science_env/lib/python3.12/site-packages/sklearn/utils/deprecation.py:151: FutureWarning: 'force_all_finite' was renamed to 'ensure_all_finite' in 1.6 and will be removed in 1.8.\n",
      "  warnings.warn(\n"
     ]
    },
    {
     "name": "stdout",
     "output_type": "stream",
     "text": [
      "Using Configuration: {\n",
      "    \"cancellation\": true,\n",
      "    \"depth_budget\": 51,\n",
      "    \"diagnostics\": false,\n",
      "    \"feature_transform\": true,\n",
      "    \"look_ahead\": true,\n",
      "    \"model_limit\": 1,\n",
      "    \"non_binary\": false,\n",
      "    \"profile\": \"\",\n",
      "    \"reference_LB\": false,\n",
      "    \"regularization\": 0.0357142873108387,\n",
      "    \"rule_list\": false,\n",
      "    \"similar_support\": true,\n",
      "    \"time_limit\": 60,\n",
      "    \"trace\": \"\",\n",
      "    \"tree\": \"\",\n",
      "    \"upperbound\": 0.0,\n",
      "    \"verbose\": true,\n",
      "    \"worker_limit\": 1\n",
      "}\n",
      "\n",
      "[WARNING] The off-by-one in the depth_budget option here is a consequence of the C++ code treating unbounded depth trees as trees of depth 0 and single node leaf trees as trees of depth 1.\n",
      "\n",
      "Initializing Optimization Framework.\n",
      "Starting Optimization.\n",
      "Time: 0, Objective: [0.107143, 0.107143], Boundary: 0, Graph Size: 1, Queue Size: 0\n",
      "Optimization Complete.\n",
      "Training Duration: 0\n",
      "Number of Optimizer Iterations: 0\n",
      "Size of Problem Graph: 1\n",
      "Objective Boundary: [0.107143, 0.107143]\n",
      "Models Generated: 1\n",
      "Loss: 0.0357143\n",
      "Complexity: 0.0714286\n"
     ]
    }
   ],
   "source": [
    "from gosdt import ThresholdGuessBinarizer, GOSDTClassifier\n",
    "from sklearn.ensemble import GradientBoostingClassifier\n",
    "import pandas as pd\n",
    "from sklearn.model_selection import train_test_split\n",
    "from sklearn.metrics import accuracy_score\n",
    "\n",
    "data = pd.read_csv('average_expression_t_cluster.csv')\n",
    "X = data.drop(columns=['cluster'])\n",
    "y = data['cluster']\n",
    "\n",
    "X_train, X_test, y_train, y_test = train_test_split(X, y, test_size=0.2, random_state=42)\n",
    "\n",
    "# 1. Binarize continuous features\n",
    "#    \"ThresholdGuessBinarizer\" uses a gradient boosting approach internally\n",
    "#    to propose thresholds that transform continuous data into 0/1 features.\n",
    "binarizer = ThresholdGuessBinarizer(\n",
    "    n_estimators=40,   \n",
    "    max_depth=1,       \n",
    "    random_state=42\n",
    ")\n",
    "X_train_bin = binarizer.fit_transform(X_train, y_train)\n",
    "X_test_bin = binarizer.transform(X_test)\n",
    "\n",
    "# 2.Warm start for GOSDT\n",
    "#    Train a simple GBDT on the binarized features to get \"warm labels\".\n",
    "warm_start_clf = GradientBoostingClassifier(\n",
    "    n_estimators=40,\n",
    "    max_depth=1,\n",
    "    random_state=42\n",
    ")\n",
    "warm_start_clf.fit(X_train_bin, y_train)\n",
    "warm_labels = warm_start_clf.predict(X_train_bin)\n",
    "\n",
    "# 3. Fit GOSDT\n",
    "clf = GOSDTClassifier(\n",
    "    regularization=0.001,\n",
    "    #allow_small_reg=True,\n",
    "    time_limit=60,\n",
    "    depth_budget=50,\n",
    "    verbose=True\n",
    ")\n",
    "\n",
    "clf.fit(X_train_bin, y_train, y_ref=warm_labels)\n",
    "\n",
    "# 4. Evaluate GOSDT\n",
    "train_preds = clf.predict(X_train_bin)\n",
    "test_preds = clf.predict(X_test_bin)\n",
    "\n",
    "train_acc = accuracy_score(y_train, train_preds)\n",
    "test_acc = accuracy_score(y_test, test_preds)\n",
    "\n",
    "print(f\"GOSDT Training Accuracy: {train_acc:.4f}\")\n",
    "print(f\"GOSDT Test Accuracy:     {test_acc:.4f}\")\n"
   ]
  },
  {
   "cell_type": "code",
   "execution_count": 10,
   "metadata": {},
   "outputs": [
    {
     "ename": "AttributeError",
     "evalue": "'GOSDTClassifier' object has no attribute 'get_model_string'",
     "output_type": "error",
     "traceback": [
      "\u001b[31m---------------------------------------------------------------------------\u001b[39m",
      "\u001b[31mAttributeError\u001b[39m                            Traceback (most recent call last)",
      "\u001b[36mCell\u001b[39m\u001b[36m \u001b[39m\u001b[32mIn[10]\u001b[39m\u001b[32m, line 1\u001b[39m\n\u001b[32m----> \u001b[39m\u001b[32m1\u001b[39m \u001b[43mclf\u001b[49m\u001b[43m.\u001b[49m\u001b[43mget_model_string\u001b[49m()\n",
      "\u001b[31mAttributeError\u001b[39m: 'GOSDTClassifier' object has no attribute 'get_model_string'"
     ]
    }
   ],
   "source": [
    "clf.get_model_string()"
   ]
  }
 ],
 "metadata": {
  "kernelspec": {
   "display_name": "data_science_env",
   "language": "python",
   "name": "python3"
  },
  "language_info": {
   "codemirror_mode": {
    "name": "ipython",
    "version": 3
   },
   "file_extension": ".py",
   "mimetype": "text/x-python",
   "name": "python",
   "nbconvert_exporter": "python",
   "pygments_lexer": "ipython3",
   "version": "3.12.9"
  }
 },
 "nbformat": 4,
 "nbformat_minor": 2
}
