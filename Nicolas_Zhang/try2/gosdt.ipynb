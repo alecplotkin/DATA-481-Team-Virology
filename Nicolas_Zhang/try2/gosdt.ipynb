{
 "cells": [
  {
   "cell_type": "markdown",
   "metadata": {},
   "source": [
    "## GOSTD"
   ]
  },
  {
   "cell_type": "code",
   "execution_count": 1,
   "metadata": {},
   "outputs": [
    {
     "ename": "ImportError",
     "evalue": "cannot import name 'check_X_y' from 'sklearn.base' (/Users/nicolaszhang/miniconda3/envs/data_science_env/lib/python3.12/site-packages/sklearn/base.py)",
     "output_type": "error",
     "traceback": [
      "\u001b[31m---------------------------------------------------------------------------\u001b[39m",
      "\u001b[31mImportError\u001b[39m                               Traceback (most recent call last)",
      "\u001b[36mCell\u001b[39m\u001b[36m \u001b[39m\u001b[32mIn[1]\u001b[39m\u001b[32m, line 1\u001b[39m\n\u001b[32m----> \u001b[39m\u001b[32m1\u001b[39m \u001b[38;5;28;01mfrom\u001b[39;00m\u001b[38;5;250m \u001b[39m\u001b[34;01mgosdt\u001b[39;00m\u001b[38;5;250m \u001b[39m\u001b[38;5;28;01mimport\u001b[39;00m ThresholdGuessBinarizer, GOSDTClassifier\n\u001b[32m      2\u001b[39m \u001b[38;5;28;01mfrom\u001b[39;00m\u001b[38;5;250m \u001b[39m\u001b[34;01msklearn\u001b[39;00m\u001b[34;01m.\u001b[39;00m\u001b[34;01mensemble\u001b[39;00m\u001b[38;5;250m \u001b[39m\u001b[38;5;28;01mimport\u001b[39;00m GradientBoostingClassifier\n\u001b[32m      3\u001b[39m \u001b[38;5;28;01mimport\u001b[39;00m\u001b[38;5;250m \u001b[39m\u001b[34;01mpandas\u001b[39;00m\u001b[38;5;250m \u001b[39m\u001b[38;5;28;01mas\u001b[39;00m\u001b[38;5;250m \u001b[39m\u001b[34;01mpd\u001b[39;00m\n",
      "\u001b[36mFile \u001b[39m\u001b[32m~/miniconda3/envs/data_science_env/lib/python3.12/site-packages/gosdt/__init__.py:12\u001b[39m\n\u001b[32m      9\u001b[39m \u001b[38;5;28;01mfrom\u001b[39;00m\u001b[38;5;250m \u001b[39m\u001b[34;01m.\u001b[39;00m\u001b[34;01m_version\u001b[39;00m\u001b[38;5;250m \u001b[39m\u001b[38;5;28;01mimport\u001b[39;00m version \u001b[38;5;28;01mas\u001b[39;00m __version__\n\u001b[32m     11\u001b[39m \u001b[38;5;28;01mfrom\u001b[39;00m\u001b[38;5;250m \u001b[39m\u001b[34;01m.\u001b[39;00m\u001b[34;01m_binarizer\u001b[39;00m\u001b[38;5;250m \u001b[39m\u001b[38;5;28;01mimport\u001b[39;00m NumericBinarizer\n\u001b[32m---> \u001b[39m\u001b[32m12\u001b[39m \u001b[38;5;28;01mfrom\u001b[39;00m\u001b[38;5;250m \u001b[39m\u001b[34;01m.\u001b[39;00m\u001b[34;01m_threshold_guessing\u001b[39;00m\u001b[38;5;250m \u001b[39m\u001b[38;5;28;01mimport\u001b[39;00m ThresholdGuessBinarizer\n\u001b[32m     13\u001b[39m \u001b[38;5;28;01mfrom\u001b[39;00m\u001b[38;5;250m \u001b[39m\u001b[34;01m.\u001b[39;00m\u001b[34;01m_classifier\u001b[39;00m\u001b[38;5;250m \u001b[39m\u001b[38;5;28;01mimport\u001b[39;00m GOSDTClassifier\n\u001b[32m     14\u001b[39m \u001b[38;5;28;01mfrom\u001b[39;00m\u001b[38;5;250m \u001b[39m\u001b[34;01m.\u001b[39;00m\u001b[34;01m_libgosdt\u001b[39;00m\u001b[38;5;250m \u001b[39m\u001b[38;5;28;01mimport\u001b[39;00m Status\n",
      "\u001b[36mFile \u001b[39m\u001b[32m~/miniconda3/envs/data_science_env/lib/python3.12/site-packages/gosdt/_threshold_guessing.py:4\u001b[39m\n\u001b[32m      2\u001b[39m \u001b[38;5;28;01mimport\u001b[39;00m\u001b[38;5;250m \u001b[39m\u001b[34;01mnumpy\u001b[39;00m\u001b[38;5;250m \u001b[39m\u001b[38;5;28;01mas\u001b[39;00m\u001b[38;5;250m \u001b[39m\u001b[34;01mnp\u001b[39;00m\n\u001b[32m      3\u001b[39m \u001b[38;5;28;01mimport\u001b[39;00m\u001b[38;5;250m \u001b[39m\u001b[34;01mpandas\u001b[39;00m\u001b[38;5;250m \u001b[39m\u001b[38;5;28;01mas\u001b[39;00m\u001b[38;5;250m \u001b[39m\u001b[34;01mpd\u001b[39;00m\n\u001b[32m----> \u001b[39m\u001b[32m4\u001b[39m \u001b[38;5;28;01mfrom\u001b[39;00m\u001b[38;5;250m \u001b[39m\u001b[34;01msklearn\u001b[39;00m\u001b[34;01m.\u001b[39;00m\u001b[34;01mbase\u001b[39;00m\u001b[38;5;250m \u001b[39m\u001b[38;5;28;01mimport\u001b[39;00m BaseEstimator, TransformerMixin, check_X_y\n\u001b[32m      5\u001b[39m \u001b[38;5;28;01mfrom\u001b[39;00m\u001b[38;5;250m \u001b[39m\u001b[34;01msklearn\u001b[39;00m\u001b[34;01m.\u001b[39;00m\u001b[34;01mensemble\u001b[39;00m\u001b[38;5;250m \u001b[39m\u001b[38;5;28;01mimport\u001b[39;00m GradientBoostingClassifier\n\u001b[32m      6\u001b[39m \u001b[38;5;28;01mfrom\u001b[39;00m\u001b[38;5;250m \u001b[39m\u001b[34;01msklearn\u001b[39;00m\u001b[34;01m.\u001b[39;00m\u001b[34;01mutils\u001b[39;00m\u001b[34;01m.\u001b[39;00m\u001b[34;01mvalidation\u001b[39;00m\u001b[38;5;250m \u001b[39m\u001b[38;5;28;01mimport\u001b[39;00m check_array, check_is_fitted\n",
      "\u001b[31mImportError\u001b[39m: cannot import name 'check_X_y' from 'sklearn.base' (/Users/nicolaszhang/miniconda3/envs/data_science_env/lib/python3.12/site-packages/sklearn/base.py)"
     ]
    }
   ],
   "source": [
    "from gosdt import ThresholdGuessBinarizer, GOSDTClassifier\n",
    "from sklearn.ensemble import GradientBoostingClassifier\n",
    "import pandas as pd\n",
    "from sklearn.model_selection import train_test_split\n",
    "from sklearn.metrics import accuracy_score\n",
    "\n",
    "data = pd.read_csv('average_expression_t_cluster.csv')\n",
    "X = data.drop(columns=['cluster'])\n",
    "y = data['cluster']\n",
    "\n",
    "X_train, X_test, y_train, y_test = train_test_split(X, y, test_size=0.2, random_state=42)\n",
    "\n",
    "# 1. Binarize continuous features\n",
    "#    \"ThresholdGuessBinarizer\" uses a gradient boosting approach internally\n",
    "#    to propose thresholds that transform continuous data into 0/1 features.\n",
    "binarizer = ThresholdGuessBinarizer(\n",
    "    n_estimators=40,   \n",
    "    max_depth=1,       \n",
    "    random_state=42\n",
    ")\n",
    "X_train_bin = binarizer.fit_transform(X_train, y_train)\n",
    "X_test_bin = binarizer.transform(X_test)\n",
    "\n",
    "# 2.Warm start for GOSDT\n",
    "#    Train a simple GBDT on the binarized features to get \"warm labels\".\n",
    "warm_start_clf = GradientBoostingClassifier(\n",
    "    n_estimators=40,\n",
    "    max_depth=1,\n",
    "    random_state=42\n",
    ")\n",
    "warm_start_clf.fit(X_train_bin, y_train)\n",
    "warm_labels = warm_start_clf.predict(X_train_bin)\n",
    "\n",
    "# 3. Fit GOSDT\n",
    "clf = GOSDTClassifier(\n",
    "    regularization=0.001,\n",
    "    similar_support=False,\n",
    "    time_limit=60,    # in seconds\n",
    "    depth_budget=6,   # maximum depth of the decision tree\n",
    "    verbose=True\n",
    ")\n",
    "\n",
    "clf.fit(X_train_bin, y_train, y_ref=warm_labels)\n",
    "\n",
    "# 4. Evaluate GOSDT\n",
    "train_preds = clf.predict(X_train_bin)\n",
    "test_preds = clf.predict(X_test_bin)\n",
    "\n",
    "train_acc = accuracy_score(y_train, train_preds)\n",
    "test_acc = accuracy_score(y_test, test_preds)\n",
    "\n",
    "print(f\"GOSDT Training Accuracy: {train_acc:.4f}\")\n",
    "print(f\"GOSDT Test Accuracy:     {test_acc:.4f}\")\n",
    "\n",
    "# 7. (Optional) Inspect the learned rules/tree\n",
    "#    GOSDTClassifier often provides ways to extract the tree/rules. For example:\n",
    "if hasattr(clf, 'rules_'):\n",
    "    print(\"\\nExtracted Rules:\")\n",
    "    for rule in clf.rules_:\n",
    "        print(rule)\n"
   ]
  }
 ],
 "metadata": {
  "kernelspec": {
   "display_name": "data_science_env",
   "language": "python",
   "name": "python3"
  },
  "language_info": {
   "codemirror_mode": {
    "name": "ipython",
    "version": 3
   },
   "file_extension": ".py",
   "mimetype": "text/x-python",
   "name": "python",
   "nbconvert_exporter": "python",
   "pygments_lexer": "ipython3",
   "version": "3.12.9"
  }
 },
 "nbformat": 4,
 "nbformat_minor": 2
}
